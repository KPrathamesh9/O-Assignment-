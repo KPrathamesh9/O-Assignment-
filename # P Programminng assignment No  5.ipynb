{
 "cells": [
  {
   "cell_type": "markdown",
   "id": "5a5e6e4e",
   "metadata": {},
   "source": [
    "# P Programminng assignment No  5"
   ]
  },
  {
   "cell_type": "code",
   "execution_count": 4,
   "id": "763f4533",
   "metadata": {},
   "outputs": [
    {
     "data": {
      "text/plain": [
       "150"
      ]
     },
     "execution_count": 4,
     "metadata": {},
     "output_type": "execute_result"
    }
   ],
   "source": [
    "#Q1.\tWrite a Python Program to Find LCM? Lowest common divisible\n",
    "def lcm(x,y):\n",
    "    \n",
    "    if x > y :\n",
    "        greater = x\n",
    "    \n",
    "    else:\n",
    "        greater = y\n",
    "    \n",
    "    while(True):\n",
    "        if((greater%x == 0) and (greater%y ==0)):\n",
    "            lcm = greater\n",
    "            break\n",
    "            \n",
    "        greater += 1\n",
    "        \n",
    "    return lcm\n",
    "\n",
    "lcm(50,75)"
   ]
  },
  {
   "cell_type": "code",
   "execution_count": 39,
   "id": "b83cc139",
   "metadata": {},
   "outputs": [
    {
     "name": "stdout",
     "output_type": "stream",
     "text": [
      "enter integer90\n",
      "enter integer25\n"
     ]
    },
    {
     "data": {
      "text/plain": [
       "5"
      ]
     },
     "execution_count": 39,
     "metadata": {},
     "output_type": "execute_result"
    }
   ],
   "source": [
    "#Q2.\tWrite a Python Program to Find HCF?\n",
    "def HCM():\n",
    "    a = int(input(\"enter integer\"))\n",
    "    b = int(input(\"enter integer\"))\n",
    "\n",
    "    if a > b:\n",
    "        greator = a\n",
    "    else:\n",
    "        greator = b\n",
    "\n",
    "    while True:\n",
    "        if (a%greator == 0) and (b%greator == 0) :\n",
    "            HCM = greator\n",
    "            #print(\"HCM of\",a,\"and\",b, \"is\", greator)\n",
    "            \n",
    "            break\n",
    "\n",
    "        greator -= 1\n",
    "    return greator\n",
    "HCM()\n"
   ]
  },
  {
   "cell_type": "code",
   "execution_count": 4,
   "id": "1cef5120",
   "metadata": {},
   "outputs": [
    {
     "name": "stdout",
     "output_type": "stream",
     "text": [
      "500\n",
      "Binary value of 500 is111110100,  Octal value of 500 is764, Hexadecimal value of 500 is1F4, \n"
     ]
    }
   ],
   "source": [
    "#Q3.\tWrite a Python Program to Convert Decimal to Binary, Octal and Hexadecimal?\n",
    "a = int(input())\n",
    "def dec_bin(a):\n",
    "    x = a\n",
    "    l = []\n",
    "    while x>0:\n",
    "        rem = x%2\n",
    "        result = x//2\n",
    "        x = result\n",
    "        l.append(rem)\n",
    "    m = \"\"\n",
    "    l2 = l[::-1]\n",
    "    for i in l2:\n",
    "        m = m + str(i)\n",
    "        \n",
    "    return(f\"Binary value of {a} is {m}, \")\n",
    "    \n",
    "def dec_hex(a):\n",
    "    x = a\n",
    "    l = []\n",
    "    while x > 0:\n",
    "        rem = x % 16\n",
    "        result = x //16\n",
    "        if rem > 9 :\n",
    "            if rem == 10:\n",
    "                rem = \"A\"\n",
    "            elif rem == 11:\n",
    "                rem = \"B\"\n",
    "            elif rem == 12:\n",
    "                rem = \"C\"\n",
    "            elif rem == 13:\n",
    "                rem = \"D\"\n",
    "            elif rem == 14:\n",
    "                rem = \"E\"\n",
    "            else:\n",
    "                rem = \"F\"\n",
    "                            \n",
    "        x = result\n",
    "        l.append(rem)\n",
    "    m = \"\"\n",
    "    l2 = l[::-1] \n",
    "    for i in l2:\n",
    "        m = m + str(i)\n",
    "                \n",
    "    return(f\"Hexadecimal value of {a} is {m}, \")\n",
    "    \n",
    "def dec_oct(a):\n",
    "    x = a\n",
    "    l = []\n",
    "    while x>0:\n",
    "        rem = x%8\n",
    "        result = x//8\n",
    "        x = result\n",
    "        l.append(rem)\n",
    "    m = \"\"\n",
    "    l2 = l[::-1] \n",
    "    for i in l2:\n",
    "        m = m + str(i)\n",
    "        \n",
    "    return(f\"Octal value of {a} is {m},\")\n",
    "    \n",
    "    \n",
    "dtb = dec_bin(a) \n",
    "dto = dec_oct(a)\n",
    "dth = dec_hex(a)\n",
    "print(dtb, dto, dth)"
   ]
  },
  {
   "cell_type": "code",
   "execution_count": 33,
   "id": "75c8cf6e",
   "metadata": {},
   "outputs": [
    {
     "name": "stdout",
     "output_type": "stream",
     "text": [
      "5\n",
      "53\n"
     ]
    }
   ],
   "source": [
    "#Q4.\tWrite a Python Program To Find ASCII value of a character?\n",
    "def Asci():\n",
    "    a = input()\n",
    "    print(ord(a))\n",
    "    \n",
    "Asci()"
   ]
  },
  {
   "cell_type": "code",
   "execution_count": 2,
   "id": "631dffd3",
   "metadata": {},
   "outputs": [
    {
     "name": "stdout",
     "output_type": "stream",
     "text": [
      "enter a number300\n",
      "enter a number50\n",
      "addition  = 1 \n",
      "substraction  = 2 \n",
      "division = 3 \n",
      "multiplication  = 4 \n",
      "enter a operation to be done: 3\n",
      "6.0\n"
     ]
    }
   ],
   "source": [
    "#Q5.\tWrite a Python Program to Make a Simple Calculator with 4 basic mathematical operations?\n",
    "def calculator():\n",
    "    try:\n",
    "        a = int(input(\"enter a number\"))\n",
    "        n = int(input(\"enter a number\"))\n",
    "        b = int(input(\"addition  = 1 \\nsubstraction  = 2 \\ndivision = 3 \\nmultiplication  = 4 \\nenter a operation to be done: \"))\n",
    "        if b == 1:\n",
    "            c = n + a\n",
    "        if b == 2: \n",
    "            c = a - n\n",
    "        if b == 3:\n",
    "            c = a / n\n",
    "        if b == 4:\n",
    "            c = a * n\n",
    "        print(c)\n",
    "    except Exception as e:\n",
    "        print(e)\n",
    "        print(\"please enter correct number and operation\")\n",
    "    \n",
    "            \n",
    "calculator()"
   ]
  },
  {
   "cell_type": "code",
   "execution_count": 6,
   "id": "5c162890",
   "metadata": {},
   "outputs": [
    {
     "name": "stdout",
     "output_type": "stream",
     "text": [
      "{\n",
      "    \"a\": 10,\n",
      "    \"b\": 45,\n",
      "    \"c\": 56\n",
      "}\n"
     ]
    }
   ],
   "source": [
    "import json\n",
    "d = {'a': 10, 'b': 45, 'c': 56}\n",
    "pretty = json.dumps(d, indent=4, sort_keys = True)\n",
    "print (pretty)"
   ]
  },
  {
   "cell_type": "code",
   "execution_count": null,
   "id": "27c20230",
   "metadata": {},
   "outputs": [],
   "source": []
  },
  {
   "cell_type": "code",
   "execution_count": 6,
   "id": "bb840b94",
   "metadata": {},
   "outputs": [
    {
     "name": "stdout",
     "output_type": "stream",
     "text": [
      "enter binary number :111110100\n"
     ]
    },
    {
     "data": {
      "text/plain": [
       "500"
      ]
     },
     "execution_count": 6,
     "metadata": {},
     "output_type": "execute_result"
    }
   ],
   "source": [
    "# program to convert binary to decimal\n",
    "def bin_dec():\n",
    "    l = str(input(\"enter binary number :\"))\n",
    "    a = 0\n",
    "    x = len(l)-1\n",
    "    for i in l:\n",
    "\n",
    "        a = a + (int(i) * 2**(x))\n",
    "\n",
    "        x= x-1 \n",
    "    return (a)\n",
    "\n",
    "bin_dec()"
   ]
  },
  {
   "cell_type": "code",
   "execution_count": null,
   "id": "2ced5c89",
   "metadata": {},
   "outputs": [],
   "source": []
  }
 ],
 "metadata": {
  "kernelspec": {
   "display_name": "Python 3 (ipykernel)",
   "language": "python",
   "name": "python3"
  },
  "language_info": {
   "codemirror_mode": {
    "name": "ipython",
    "version": 3
   },
   "file_extension": ".py",
   "mimetype": "text/x-python",
   "name": "python",
   "nbconvert_exporter": "python",
   "pygments_lexer": "ipython3",
   "version": "3.9.7"
  }
 },
 "nbformat": 4,
 "nbformat_minor": 5
}
