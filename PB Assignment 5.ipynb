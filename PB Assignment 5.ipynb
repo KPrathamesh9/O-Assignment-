{
 "cells": [
  {
   "cell_type": "markdown",
   "id": "21b468b9",
   "metadata": {},
   "source": [
    "# PB Assignment 5"
   ]
  },
  {
   "cell_type": "code",
   "execution_count": null,
   "id": "a792387e",
   "metadata": {},
   "outputs": [],
   "source": [
    "#Q1. What does an empty dictionary's code look like?\n",
    "lst = []"
   ]
  },
  {
   "cell_type": "code",
   "execution_count": 4,
   "id": "3ea43a3b",
   "metadata": {},
   "outputs": [
    {
     "data": {
      "text/plain": [
       "dict_values([42])"
      ]
     },
     "execution_count": 4,
     "metadata": {},
     "output_type": "execute_result"
    }
   ],
   "source": [
    "#Q2. What is the value of a dictionary value with the key 'foo' and the value 42?\n",
    "d = {\"foo\": 42}\n",
    "d.values()"
   ]
  },
  {
   "cell_type": "markdown",
   "id": "9e2d951d",
   "metadata": {},
   "source": [
    "#Q3. What is the most significant distinction between a dictionary and a list?\n",
    "    values in dictionary are in the form of list of \"key and value\" pairs However values in List are in the form of list of variables.\n",
    "\n"
   ]
  },
  {
   "cell_type": "code",
   "execution_count": 7,
   "id": "9bbcfc87",
   "metadata": {},
   "outputs": [
    {
     "ename": "KeyError",
     "evalue": "'foo'",
     "output_type": "error",
     "traceback": [
      "\u001b[1;31m---------------------------------------------------------------------------\u001b[0m",
      "\u001b[1;31mKeyError\u001b[0m                                  Traceback (most recent call last)",
      "\u001b[1;32m~\\AppData\\Local\\Temp/ipykernel_9988/3737312307.py\u001b[0m in \u001b[0;36m<module>\u001b[1;34m\u001b[0m\n\u001b[0;32m      2\u001b[0m \u001b[1;31m# You will get get a KeyError error\u001b[0m\u001b[1;33m\u001b[0m\u001b[1;33m\u001b[0m\u001b[0m\n\u001b[0;32m      3\u001b[0m \u001b[0mspam\u001b[0m  \u001b[1;33m=\u001b[0m \u001b[1;33m{\u001b[0m\u001b[1;34m'bar'\u001b[0m\u001b[1;33m:\u001b[0m\u001b[1;36m100\u001b[0m\u001b[1;33m}\u001b[0m\u001b[1;33m\u001b[0m\u001b[1;33m\u001b[0m\u001b[0m\n\u001b[1;32m----> 4\u001b[1;33m \u001b[0mspam\u001b[0m\u001b[1;33m[\u001b[0m\u001b[1;34m'foo'\u001b[0m\u001b[1;33m]\u001b[0m\u001b[1;33m\u001b[0m\u001b[1;33m\u001b[0m\u001b[0m\n\u001b[0m",
      "\u001b[1;31mKeyError\u001b[0m: 'foo'"
     ]
    }
   ],
   "source": [
    "#Q4. What happens if you try to access spam['foo'] if spam is {'bar': 100}?\n",
    "# You will get get a KeyError error\n",
    "spam  = {'bar':100}\n",
    "spam['foo']"
   ]
  },
  {
   "cell_type": "code",
   "execution_count": 12,
   "id": "2d6d7d55",
   "metadata": {},
   "outputs": [
    {
     "data": {
      "text/plain": [
       "dict_keys(['cat'])"
      ]
     },
     "execution_count": 12,
     "metadata": {},
     "output_type": "execute_result"
    }
   ],
   "source": [
    "#Q5. If a dictionary is stored in spam, what is the difference between the expressions 'cat' in spam and 'cat' in spam.keys()?\n",
    "spam = {\"cat\": 10}\n",
    "spam.keys()\n",
    "#there is no differnece"
   ]
  },
  {
   "cell_type": "markdown",
   "id": "f74c8768",
   "metadata": {},
   "source": [
    "#Q6. If a dictionary is stored in spam, what is the difference between the expressions 'cat' in spam and 'cat' in spam.values()?\n",
    "ans-     The 'cat' is the key from dictionary and 'cat in spam.values() checks if key 'cat' has any value assigned in dictionary.\n",
    "    "
   ]
  },
  {
   "cell_type": "code",
   "execution_count": 17,
   "id": "31e6303d",
   "metadata": {},
   "outputs": [
    {
     "data": {
      "text/plain": [
       "{'cat': 10, 'color': 'black'}"
      ]
     },
     "execution_count": 17,
     "metadata": {},
     "output_type": "execute_result"
    }
   ],
   "source": [
    "#Q7. What is a shortcut for the following code?\n",
    "if 'color' != spam.keys():\n",
    "    spam['color'] = 'black'\n",
    "\n",
    "spam"
   ]
  },
  {
   "cell_type": "code",
   "execution_count": 15,
   "id": "6a5b8fa7",
   "metadata": {},
   "outputs": [
    {
     "name": "stdout",
     "output_type": "stream",
     "text": [
      "{\n",
      "    \"a\": 10,\n",
      "    \"b\": 45,\n",
      "    \"c\": 56\n",
      "}\n"
     ]
    }
   ],
   "source": [
    "#Q8. How do you \"pretty print\" dictionary values using which module and function?\n",
    "import json\n",
    "d = {'a': 10, 'b': 45, 'c': 56}\n",
    "pretty = json.dumps(d, indent=4, sort_keys = True)\n",
    "print (pretty)"
   ]
  },
  {
   "cell_type": "code",
   "execution_count": 18,
   "id": "a3bf7a54",
   "metadata": {},
   "outputs": [
    {
     "data": {
      "text/plain": [
       "'C:\\\\Users\\\\prath'"
      ]
     },
     "execution_count": 18,
     "metadata": {},
     "output_type": "execute_result"
    }
   ],
   "source": [
    "pwd()"
   ]
  },
  {
   "cell_type": "code",
   "execution_count": null,
   "id": "6307a4b7",
   "metadata": {},
   "outputs": [],
   "source": []
  }
 ],
 "metadata": {
  "kernelspec": {
   "display_name": "Python 3 (ipykernel)",
   "language": "python",
   "name": "python3"
  },
  "language_info": {
   "codemirror_mode": {
    "name": "ipython",
    "version": 3
   },
   "file_extension": ".py",
   "mimetype": "text/x-python",
   "name": "python",
   "nbconvert_exporter": "python",
   "pygments_lexer": "ipython3",
   "version": "3.9.7"
  }
 },
 "nbformat": 4,
 "nbformat_minor": 5
}
