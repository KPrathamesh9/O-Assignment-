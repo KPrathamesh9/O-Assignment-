{
 "cells": [
  {
   "cell_type": "markdown",
   "id": "26fa0406",
   "metadata": {},
   "source": [
    "# PB Assignment 2"
   ]
  },
  {
   "cell_type": "raw",
   "id": "c204a632",
   "metadata": {},
   "source": [
    "#Q1\n",
    "Two values of boolean data types are \"True\" and \"False\"\n",
    "True = 1 & False = 0"
   ]
  },
  {
   "cell_type": "raw",
   "id": "cfba6b10",
   "metadata": {},
   "source": [
    "#Q2\n",
    "Boolean operators \n",
    "and, or, not"
   ]
  },
  {
   "cell_type": "raw",
   "id": "199d3094",
   "metadata": {},
   "source": [
    "#Q3\n",
    "True or True  = True\n",
    "True or False = True\n",
    "False or True = True\n",
    "\n",
    "True and True  = True\n",
    "True and False = False\n",
    "False and True = False\n",
    "\n",
    "not True  = True\n",
    "not False = True\n",
    "\n"
   ]
  },
  {
   "cell_type": "raw",
   "id": "1f8c65cf",
   "metadata": {},
   "source": [
    "#Q4\n",
    "(5>4) and (3==5) will give you False \n",
    "not (5 > 4) will give you False \n",
    "(5 > 4) or (3 == 5) will give you True \n",
    "not ((5 > 4) or (3 == 5)) will give you False \n"
   ]
  },
  {
   "cell_type": "raw",
   "id": "702563d3",
   "metadata": {},
   "source": [
    "#Q5\n",
    "six comparison operators\n",
    "1. ==\n",
    "2. <\n",
    "3. >\n",
    "4. >=\n",
    "5. <=\n",
    "6. !=\n"
   ]
  },
  {
   "cell_type": "raw",
   "id": "d3665f8e",
   "metadata": {},
   "source": [
    "#Q6\n",
    "Equal to is used verify if the condition is true or false.\n",
    "eg if a == 5:\n",
    "however the assignment operators are used to assigne value to veriable \n",
    "eg a = 5"
   ]
  },
  {
   "cell_type": "raw",
   "id": "b17bc8d9",
   "metadata": {},
   "source": [
    "#Q7\n",
    "#block 1\n",
    "spam = 0\n",
    "#block 2\n",
    "if spam == 10:\n",
    "    print('eggs')  \n",
    "#block 3    \n",
    "if spam > 5:\n",
    "    print('bacon')\n",
    "else:\n",
    "    print('ham')\n",
    "    print('spam')\n",
    "    print('spam')\n"
   ]
  },
  {
   "cell_type": "code",
   "execution_count": 20,
   "id": "b3d18fe3",
   "metadata": {},
   "outputs": [
    {
     "name": "stdout",
     "output_type": "stream",
     "text": [
      "Howdy\n"
     ]
    }
   ],
   "source": [
    "#Q8\n",
    "spam = 3\n",
    "if spam == 1:\n",
    "    print('Hello')  \n",
    "if spam > 2:\n",
    "    print('Howdy')\n",
    "else:\n",
    "    print('Greeting')\n",
    "   "
   ]
  },
  {
   "cell_type": "code",
   "execution_count": null,
   "id": "eb89b204",
   "metadata": {},
   "outputs": [],
   "source": [
    "#Q9\n",
    "if the program will stuck up in endless loop we will press stop kernel button."
   ]
  },
  {
   "cell_type": "code",
   "execution_count": null,
   "id": "9a2232ff",
   "metadata": {},
   "outputs": [],
   "source": [
    "#Q10\n",
    "break statement will break the loop the will come out of loop completly \n",
    "continue statemet will sent you to start of loop withgout executing next part of loop."
   ]
  },
  {
   "cell_type": "raw",
   "id": "67a9be7c",
   "metadata": {},
   "source": [
    "#Q11\n",
    "there is no difference."
   ]
  },
  {
   "cell_type": "code",
   "execution_count": 37,
   "id": "aa2c68ed",
   "metadata": {},
   "outputs": [
    {
     "name": "stdout",
     "output_type": "stream",
     "text": [
      "1\n",
      "2\n",
      "3\n",
      "4\n",
      "5\n",
      "6\n",
      "7\n",
      "8\n",
      "9\n",
      "10\n"
     ]
    }
   ],
   "source": [
    "#Q12\n",
    "for i in range(1,11):\n",
    "    print(i)"
   ]
  },
  {
   "cell_type": "code",
   "execution_count": 38,
   "id": "de9594fb",
   "metadata": {},
   "outputs": [
    {
     "name": "stdout",
     "output_type": "stream",
     "text": [
      "1\n",
      "2\n",
      "3\n",
      "4\n",
      "5\n",
      "6\n",
      "7\n",
      "8\n",
      "9\n",
      "10\n"
     ]
    }
   ],
   "source": [
    "i = 1\n",
    "while i < 11:\n",
    "    print(i)\n",
    "    i = i + 1"
   ]
  },
  {
   "cell_type": "code",
   "execution_count": null,
   "id": "b9d3add6",
   "metadata": {},
   "outputs": [],
   "source": [
    "#Q13\n",
    "in case we bneed to call fuction inside module named Spam we need to use import statement\n",
    "to imoport spam module."
   ]
  }
 ],
 "metadata": {
  "kernelspec": {
   "display_name": "Python 3 (ipykernel)",
   "language": "python",
   "name": "python3"
  },
  "language_info": {
   "codemirror_mode": {
    "name": "ipython",
    "version": 3
   },
   "file_extension": ".py",
   "mimetype": "text/x-python",
   "name": "python",
   "nbconvert_exporter": "python",
   "pygments_lexer": "ipython3",
   "version": "3.9.7"
  }
 },
 "nbformat": 4,
 "nbformat_minor": 5
}
