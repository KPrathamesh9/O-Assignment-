{
 "cells": [
  {
   "cell_type": "markdown",
   "id": "2245a1be",
   "metadata": {},
   "source": [
    "# PB Assignment 4"
   ]
  },
  {
   "cell_type": "code",
   "execution_count": null,
   "id": "009e3d1b",
   "metadata": {},
   "outputs": [],
   "source": [
    "#Q1\n",
    "1. []The indexing operator (Python uses square brackets to enclose the index) selects \n",
    "a single character from a string\n",
    "2. these are also used to to define or return string. this can be empty string"
   ]
  },
  {
   "cell_type": "code",
   "execution_count": 1,
   "id": "7d66e7ae",
   "metadata": {},
   "outputs": [
    {
     "data": {
      "text/plain": [
       "[2, 4, 6, 'hello', 10]"
      ]
     },
     "execution_count": 1,
     "metadata": {},
     "output_type": "execute_result"
    }
   ],
   "source": [
    "#Q2\n",
    "spam = [2,4,6,8,10]\n",
    "spam[3] = \"hello\"\n",
    "spam"
   ]
  },
  {
   "cell_type": "code",
   "execution_count": 20,
   "id": "ebcd8ca3",
   "metadata": {},
   "outputs": [
    {
     "data": {
      "text/plain": [
       "'d'"
      ]
     },
     "execution_count": 20,
     "metadata": {},
     "output_type": "execute_result"
    }
   ],
   "source": [
    "#Q3 \n",
    "spam  = ['a','b','c','d']\n",
    "spam[int(int('3'*2)/11)]"
   ]
  },
  {
   "cell_type": "code",
   "execution_count": 21,
   "id": "be201eef",
   "metadata": {},
   "outputs": [
    {
     "data": {
      "text/plain": [
       "'d'"
      ]
     },
     "execution_count": 21,
     "metadata": {},
     "output_type": "execute_result"
    }
   ],
   "source": [
    "#Q4\n",
    "spam [-1]"
   ]
  },
  {
   "cell_type": "code",
   "execution_count": 26,
   "id": "544135fa",
   "metadata": {},
   "outputs": [
    {
     "data": {
      "text/plain": [
       "['a', 'b']"
      ]
     },
     "execution_count": 26,
     "metadata": {},
     "output_type": "execute_result"
    }
   ],
   "source": [
    "#Q5\n",
    "spam[:2]"
   ]
  },
  {
   "cell_type": "code",
   "execution_count": 30,
   "id": "bf6a3653",
   "metadata": {},
   "outputs": [
    {
     "data": {
      "text/plain": [
       "1"
      ]
     },
     "execution_count": 30,
     "metadata": {},
     "output_type": "execute_result"
    }
   ],
   "source": [
    "#Q6 This will provie you index number\n",
    "bacon = [3.14, 'cat', 11, True]\n",
    "bacon.index('cat')\n"
   ]
  },
  {
   "cell_type": "code",
   "execution_count": 32,
   "id": "b956fc76",
   "metadata": {},
   "outputs": [
    {
     "data": {
      "text/plain": [
       "[3.14, 'cat', 11, True, 99]"
      ]
     },
     "execution_count": 32,
     "metadata": {},
     "output_type": "execute_result"
    }
   ],
   "source": [
    "#Q7 append function appends the value at the end of list\n",
    "bacon = [3.14, 'cat', 11, True]\n",
    "bacon.append(99)\n",
    "bacon"
   ]
  },
  {
   "cell_type": "code",
   "execution_count": 34,
   "id": "6ec800fa",
   "metadata": {},
   "outputs": [
    {
     "data": {
      "text/plain": [
       "[3.14, 11, True]"
      ]
     },
     "execution_count": 34,
     "metadata": {},
     "output_type": "execute_result"
    }
   ],
   "source": [
    "#Q8 remove will remove the value from list\n",
    "bacon = [3.14, 'cat', 11, True]\n",
    "bacon.remove('cat')\n",
    "bacon"
   ]
  },
  {
   "cell_type": "code",
   "execution_count": 43,
   "id": "02b84dc8",
   "metadata": {},
   "outputs": [
    {
     "data": {
      "text/plain": [
       "[3.14, 'cat', 11, 55, True]"
      ]
     },
     "execution_count": 43,
     "metadata": {},
     "output_type": "execute_result"
    }
   ],
   "source": [
    "#Q9\n",
    "#+ is list concatination operator and, * is list replication operator "
   ]
  },
  {
   "cell_type": "code",
   "execution_count": null,
   "id": "6761f1e3",
   "metadata": {},
   "outputs": [],
   "source": [
    "#Q10 by useing append() function you can insert item at the end of list.\n",
    "# however by useing insert() function you can insert item after mentioning index number at any place you want"
   ]
  },
  {
   "cell_type": "code",
   "execution_count": 2,
   "id": "c15b630c",
   "metadata": {},
   "outputs": [],
   "source": [
    "#Q11 we can use remove and pop functions to remove item from list."
   ]
  },
  {
   "cell_type": "code",
   "execution_count": null,
   "id": "7b309568",
   "metadata": {},
   "outputs": [],
   "source": [
    "#Q12\n",
    "list values and string values are both iterable, however int value are not iterable "
   ]
  },
  {
   "cell_type": "code",
   "execution_count": null,
   "id": "a2e83a7f",
   "metadata": {},
   "outputs": [],
   "source": [
    "#Q13 differnece between tuples and list\n",
    "# 1 List is defined with [] however tuple defined with()\n",
    "# 2 tuple object does not support item assignment however list does.\n"
   ]
  },
  {
   "cell_type": "code",
   "execution_count": 84,
   "id": "dd684a9e",
   "metadata": {},
   "outputs": [
    {
     "data": {
      "text/plain": [
       "tuple"
      ]
     },
     "execution_count": 84,
     "metadata": {},
     "output_type": "execute_result"
    }
   ],
   "source": [
    "#Q14 in such cases triling quama is mandtory\n",
    "t = (42,)\n",
    "type(t)"
   ]
  },
  {
   "cell_type": "code",
   "execution_count": 73,
   "id": "78f87d54",
   "metadata": {},
   "outputs": [
    {
     "data": {
      "text/plain": [
       "(2, 5, 52, 5, 2, 5)"
      ]
     },
     "execution_count": 73,
     "metadata": {},
     "output_type": "execute_result"
    }
   ],
   "source": [
    "#Q15 How do you get a list value's tuple form? How do you get a tuple value's list form?\n",
    "l1 = [2,5,52,5,2,5]\n",
    "t = tuple(l1)\n",
    "t"
   ]
  },
  {
   "cell_type": "code",
   "execution_count": 46,
   "id": "406d9ee0",
   "metadata": {},
   "outputs": [
    {
     "data": {
      "text/plain": [
       "[2, 5, 52, 5, 2, 5]"
      ]
     },
     "execution_count": 46,
     "metadata": {},
     "output_type": "execute_result"
    }
   ],
   "source": [
    "l3 = list(t)\n",
    "l3"
   ]
  },
  {
   "cell_type": "code",
   "execution_count": null,
   "id": "6b09976d",
   "metadata": {},
   "outputs": [],
   "source": [
    "#Q16 Variables 'contains' list values are contains \"references\" to the list values rather than values."
   ]
  },
  {
   "cell_type": "code",
   "execution_count": null,
   "id": "a50bcfeb",
   "metadata": {},
   "outputs": [],
   "source": [
    "#Q17\n",
    "copy.copy() will make a different storage location, works well for non-nested list\n",
    "copy.deepcopy() will store values of both lists in differnet location even when it is nested list."
   ]
  },
  {
   "cell_type": "code",
   "execution_count": null,
   "id": "b2152bfe",
   "metadata": {},
   "outputs": [],
   "source": []
  },
  {
   "cell_type": "code",
   "execution_count": null,
   "id": "7887573a",
   "metadata": {},
   "outputs": [],
   "source": []
  }
 ],
 "metadata": {
  "kernelspec": {
   "display_name": "Python 3 (ipykernel)",
   "language": "python",
   "name": "python3"
  },
  "language_info": {
   "codemirror_mode": {
    "name": "ipython",
    "version": 3
   },
   "file_extension": ".py",
   "mimetype": "text/x-python",
   "name": "python",
   "nbconvert_exporter": "python",
   "pygments_lexer": "ipython3",
   "version": "3.9.7"
  }
 },
 "nbformat": 4,
 "nbformat_minor": 5
}
