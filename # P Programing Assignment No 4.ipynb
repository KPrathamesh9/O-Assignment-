{
 "cells": [
  {
   "cell_type": "markdown",
   "id": "932be28f",
   "metadata": {},
   "source": [
    "# P Programing Assignment No 4"
   ]
  },
  {
   "cell_type": "code",
   "execution_count": 22,
   "id": "52aedb47",
   "metadata": {},
   "outputs": [
    {
     "name": "stdout",
     "output_type": "stream",
     "text": [
      "Enter number:10\n",
      "3628800\n"
     ]
    }
   ],
   "source": [
    "#Q1. Write a Python Program to Find the Factorial of a Number?\n",
    "def factorial():\n",
    "    n = int(input(\"Enter number:\"))\n",
    "    b = 1\n",
    "    for i in range(1,n+1):\n",
    "        b = b * i\n",
    "    print(b)\n",
    "\n",
    "factorial()"
   ]
  },
  {
   "cell_type": "code",
   "execution_count": 29,
   "id": "62357cc6",
   "metadata": {},
   "outputs": [
    {
     "name": "stdout",
     "output_type": "stream",
     "text": [
      "enter number for table25\n",
      "25\n",
      "50\n",
      "75\n",
      "100\n",
      "125\n",
      "150\n",
      "175\n",
      "200\n",
      "225\n",
      "250\n"
     ]
    }
   ],
   "source": [
    "#Q2. Write a Python Program to Display the multiplication Table?\n",
    "def mtable():\n",
    "    n = int(input(\"enter number for table\"))\n",
    "    for i in range(1,11):\n",
    "        print(n*i)\n",
    "mtable()"
   ]
  },
  {
   "cell_type": "code",
   "execution_count": 23,
   "id": "81e44f16",
   "metadata": {},
   "outputs": [
    {
     "name": "stdout",
     "output_type": "stream",
     "text": [
      "enter maximum limit60\n",
      "1 1\n",
      "2 1\n",
      "3 2\n",
      "4 3\n",
      "5 5\n",
      "6 8\n",
      "7 13\n",
      "8 21\n",
      "9 34\n",
      "10 55\n"
     ]
    }
   ],
   "source": [
    "#Q3. Write a Python Program to Print the Fibonacci sequence?\n",
    "n = int(input(\"enter maximum limit\"))\n",
    "a = 1\n",
    "b = 1\n",
    "s = 1\n",
    "while a < n:\n",
    "    print(s, a)\n",
    "    s = s+ 1\n",
    "    a ,b = b, a+b\n"
   ]
  },
  {
   "cell_type": "code",
   "execution_count": 24,
   "id": "710845ee",
   "metadata": {},
   "outputs": [
    {
     "name": "stdout",
     "output_type": "stream",
     "text": [
      "enter number  :153\n",
      "153 is a Armstrong number\n"
     ]
    }
   ],
   "source": [
    "# Write a Python Program to Check Armstrong Number?\n",
    "def Armnum():\n",
    "    n = str(input(\"enter number  :\"))\n",
    "    s = 0\n",
    "    for i in range(len(n)):\n",
    "        s = s + (int(n[i]))**len(n)\n",
    "    if s == int(n):\n",
    "        print(n,\"is a Armstrong number\")\n",
    "    else:\n",
    "        print('not Armstrong number')\n",
    "Armnum()"
   ]
  },
  {
   "cell_type": "code",
   "execution_count": 25,
   "id": "e22cf3a6",
   "metadata": {},
   "outputs": [
    {
     "name": "stdout",
     "output_type": "stream",
     "text": [
      "1 is a Armstrong number\n",
      "2 is a Armstrong number\n",
      "3 is a Armstrong number\n",
      "4 is a Armstrong number\n",
      "5 is a Armstrong number\n",
      "6 is a Armstrong number\n",
      "7 is a Armstrong number\n",
      "8 is a Armstrong number\n",
      "9 is a Armstrong number\n",
      "153 is a Armstrong number\n",
      "370 is a Armstrong number\n",
      "371 is a Armstrong number\n",
      "407 is a Armstrong number\n",
      "1634 is a Armstrong number\n"
     ]
    }
   ],
   "source": [
    "#Q5. Write a Python Program to Find Armstrong Number in an Interval?\n",
    "def Armnums():\n",
    "    \n",
    "    #n = str(input(\"enter number  :\"))\n",
    "    for n in range(1,5000):    \n",
    "        n = str(n)\n",
    "        s = 0\n",
    "        for i in range(len(n)):\n",
    "            s = s + (int(n[i]))**len(n)\n",
    "        if s == int(n):\n",
    "            print(n,\"is a Armstrong number\")\n",
    "\n",
    "Armnums()\n"
   ]
  },
  {
   "cell_type": "code",
   "execution_count": null,
   "id": "e71a5da9",
   "metadata": {},
   "outputs": [],
   "source": [
    "#Q6. Write a Python Program to Find the Sum of Natural Numbers?\n",
    "def Natnums():\n",
    "    n = int(input('enter number :'))\n",
    "    s = 0\n",
    "    for i in range(1,n+1):    \n",
    "        s = s + i\n",
    "    return (s)\n",
    "    \n",
    "Natnums()"
   ]
  },
  {
   "cell_type": "code",
   "execution_count": null,
   "id": "845da4ef",
   "metadata": {},
   "outputs": [],
   "source": []
  }
 ],
 "metadata": {
  "kernelspec": {
   "display_name": "Python 3 (ipykernel)",
   "language": "python",
   "name": "python3"
  },
  "language_info": {
   "codemirror_mode": {
    "name": "ipython",
    "version": 3
   },
   "file_extension": ".py",
   "mimetype": "text/x-python",
   "name": "python",
   "nbconvert_exporter": "python",
   "pygments_lexer": "ipython3",
   "version": "3.9.7"
  }
 },
 "nbformat": 4,
 "nbformat_minor": 5
}
