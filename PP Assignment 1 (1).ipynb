{
 "cells": [
  {
   "cell_type": "markdown",
   "id": "cfb79c47",
   "metadata": {},
   "source": [
    "# PP Assignment 1"
   ]
  },
  {
   "cell_type": "code",
   "execution_count": 4,
   "id": "206be3f5",
   "metadata": {},
   "outputs": [
    {
     "name": "stdout",
     "output_type": "stream",
     "text": [
      "hello Python\n"
     ]
    }
   ],
   "source": [
    "#Q1\n",
    "print(\"hello Python\")"
   ]
  },
  {
   "cell_type": "code",
   "execution_count": 5,
   "id": "01dc1edc",
   "metadata": {},
   "outputs": [
    {
     "name": "stdout",
     "output_type": "stream",
     "text": [
      "8 2\n"
     ]
    }
   ],
   "source": [
    "#Q2\n",
    "a = 5\n",
    "b = 3\n",
    "c = a + b\n",
    "d = a - b\n",
    "print(c,d)"
   ]
  },
  {
   "cell_type": "code",
   "execution_count": 13,
   "id": "c9db3062",
   "metadata": {},
   "outputs": [
    {
     "name": "stdout",
     "output_type": "stream",
     "text": [
      "enter 1st sides of trangle : 5\n",
      "enter 2nd sides of trangle : 4\n",
      "enter 3rd sides of trangle : 3\n",
      "area of trangle is 6.0\n"
     ]
    }
   ],
   "source": [
    "#Q3\n",
    "a = int(input(\"enter 1st sides of trangle : \"))\n",
    "b = int(input(\"enter 2nd sides of trangle : \"))\n",
    "c = int(input(\"enter 3rd sides of trangle : \"))\n",
    "\n",
    "s = (a + b + c)/2\n",
    "\n",
    "area = (s*(s-a)*(s-b)*(s-c))**(1/2)\n",
    "\n",
    "print(\"area of trangle is\", area)\n"
   ]
  },
  {
   "cell_type": "code",
   "execution_count": 21,
   "id": "86834b25",
   "metadata": {},
   "outputs": [
    {
     "name": "stdout",
     "output_type": "stream",
     "text": [
      " enter value for variable a : 5\n",
      " enter value for variable b : 6\n",
      "a = 6 b = 5\n"
     ]
    }
   ],
   "source": [
    "#Q4\n",
    "a = int (input(\" enter value for variable a : \"))\n",
    "b = int (input(\" enter value for variable b : \"))\n",
    "\n",
    "c = a\n",
    "a = b\n",
    "b = c\n",
    "\n",
    "print(\"a =\",a,\"b =\", b)\n"
   ]
  },
  {
   "cell_type": "code",
   "execution_count": 54,
   "id": "138e1ad3",
   "metadata": {},
   "outputs": [
    {
     "data": {
      "text/plain": [
       "676"
      ]
     },
     "execution_count": 54,
     "metadata": {},
     "output_type": "execute_result"
    }
   ],
   "source": [
    "#Q5\n",
    "\n",
    "# program to generate 3 digit random number \n",
    "from random import randint\n",
    "randint(100,999)"
   ]
  },
  {
   "cell_type": "code",
   "execution_count": null,
   "id": "303e2d61",
   "metadata": {},
   "outputs": [],
   "source": []
  },
  {
   "cell_type": "code",
   "execution_count": null,
   "id": "bc29e773",
   "metadata": {},
   "outputs": [],
   "source": []
  }
 ],
 "metadata": {
  "kernelspec": {
   "display_name": "Python 3 (ipykernel)",
   "language": "python",
   "name": "python3"
  },
  "language_info": {
   "codemirror_mode": {
    "name": "ipython",
    "version": 3
   },
   "file_extension": ".py",
   "mimetype": "text/x-python",
   "name": "python",
   "nbconvert_exporter": "python",
   "pygments_lexer": "ipython3",
   "version": "3.9.7"
  }
 },
 "nbformat": 4,
 "nbformat_minor": 5
}
