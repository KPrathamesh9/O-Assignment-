{
 "cells": [
  {
   "cell_type": "markdown",
   "id": "f33638d8",
   "metadata": {},
   "source": [
    "# PB Programming assignment 6"
   ]
  },
  {
   "cell_type": "code",
   "execution_count": 1,
   "id": "202d380f",
   "metadata": {},
   "outputs": [
    {
     "data": {
      "text/plain": [
       "0"
      ]
     },
     "execution_count": 1,
     "metadata": {},
     "output_type": "execute_result"
    }
   ],
   "source": [
    "#Q1.\tWrite a Python Program to Display Fibonacci Sequence Using Recursion?\n",
    "\n",
    "def febunacci(n):\n",
    "    b = 1\n",
    "    a = 1\n",
    "    if(a>n):\n",
    "        result = febunacci(a+b)\n",
    "        a,b = b, result\n",
    "        \n",
    "        print (result)\n",
    "         \n",
    "    else:\n",
    "        result = 0\n",
    "    return result\n",
    "febunacci(10)\n"
   ]
  },
  {
   "cell_type": "code",
   "execution_count": null,
   "id": "3d472a92",
   "metadata": {},
   "outputs": [],
   "source": [
    "#Q2.\tWrite a Python Program to Find Factorial of Number Using Recursion?\n"
   ]
  },
  {
   "cell_type": "code",
   "execution_count": null,
   "id": "a272cfa3",
   "metadata": {},
   "outputs": [],
   "source": [
    "#Q3.\tWrite a Python Program to calculate your Body Mass Index?\n"
   ]
  },
  {
   "cell_type": "code",
   "execution_count": null,
   "id": "e1cfa314",
   "metadata": {},
   "outputs": [],
   "source": [
    "#Q4.\tWrite a Python Program to calculate the natural logarithm of any number?\n"
   ]
  },
  {
   "cell_type": "code",
   "execution_count": null,
   "id": "04a4c8d8",
   "metadata": {},
   "outputs": [],
   "source": [
    "#Q5.\tWrite a Python Program for cube sum of first n natural numbers?"
   ]
  },
  {
   "cell_type": "code",
   "execution_count": null,
   "id": "694e99f8",
   "metadata": {},
   "outputs": [],
   "source": []
  }
 ],
 "metadata": {
  "kernelspec": {
   "display_name": "Python 3 (ipykernel)",
   "language": "python",
   "name": "python3"
  },
  "language_info": {
   "codemirror_mode": {
    "name": "ipython",
    "version": 3
   },
   "file_extension": ".py",
   "mimetype": "text/x-python",
   "name": "python",
   "nbconvert_exporter": "python",
   "pygments_lexer": "ipython3",
   "version": "3.9.7"
  }
 },
 "nbformat": 4,
 "nbformat_minor": 5
}
