{
 "cells": [
  {
   "cell_type": "markdown",
   "id": "2a63f6fc",
   "metadata": {},
   "source": [
    "# PB assignment3"
   ]
  },
  {
   "cell_type": "raw",
   "id": "3118ca66",
   "metadata": {},
   "source": [
    "#Q1\n",
    "Function are advantageous over program becase function can be called multiple times\n",
    "and thus we can avoid writing programs mutilple times \n"
   ]
  },
  {
   "cell_type": "raw",
   "id": "c714ddc0",
   "metadata": {},
   "source": [
    "#Q2\n",
    "the code in the function runs when we function will be called, and note when specified."
   ]
  },
  {
   "cell_type": "raw",
   "id": "8639fe24",
   "metadata": {},
   "source": [
    "#Q3\n",
    "def statement is used to create function"
   ]
  },
  {
   "cell_type": "raw",
   "id": "2a7422e7",
   "metadata": {},
   "source": [
    "#Q4 difference between fuction and function call\n",
    "function is where we specify and write code according to out put we want\n",
    "and function call is where we run the function to get the desired out put\n"
   ]
  },
  {
   "cell_type": "raw",
   "id": "e15ab627",
   "metadata": {},
   "source": [
    "#Q5\n",
    "There is only 1 Global and 1 Local scope in python program.\n",
    "\n",
    "there are four types of scopes in python \n",
    "1. Local\n",
    "2. enclosing\n",
    "3. Global - there can be only 1 global scope in python\n",
    "4. built in\n"
   ]
  },
  {
   "cell_type": "raw",
   "id": "253b475d",
   "metadata": {},
   "source": [
    "#Q6\n",
    "when function call returns local scope distryed and local variables will be forgotten."
   ]
  },
  {
   "cell_type": "raw",
   "id": "2e7819b7",
   "metadata": {},
   "source": [
    "#Q7\n",
    "return function is used inside function to return output.\n",
    "yes we can return value in expression "
   ]
  },
  {
   "cell_type": "raw",
   "id": "2e854add",
   "metadata": {},
   "source": [
    "#Q8\n",
    "function doesn't specify a return value, it returns None"
   ]
  },
  {
   "cell_type": "raw",
   "id": "ebf1539e",
   "metadata": {},
   "source": [
    "#9\n",
    "we may use 'global' key word to use fuction variable to refer to global variable"
   ]
  },
  {
   "cell_type": "raw",
   "id": "47f500d2",
   "metadata": {},
   "source": [
    "# Q10\n",
    "None keyword is an object and is a data type of none type class in Python"
   ]
  },
  {
   "cell_type": "raw",
   "id": "6b5c52d7",
   "metadata": {},
   "source": [
    "#Q11\n",
    "That import statement will imports a module named areallyourpetsnamederic."
   ]
  },
  {
   "cell_type": "raw",
   "id": "23d7cc18",
   "metadata": {},
   "source": [
    "#Q12\n",
    "Once after we import spam we can call it a bacon() function."
   ]
  },
  {
   "cell_type": "raw",
   "id": "1d6f0e40",
   "metadata": {},
   "source": [
    "#Q13\n",
    "we can use try and except fuctions to sava program from crashgin if it encounters error."
   ]
  },
  {
   "cell_type": "raw",
   "id": "d7a53f96",
   "metadata": {},
   "source": [
    "#Q14\n",
    "the purpose of Try and except clause is to check error in code and stopping it \n",
    "from crashing program to be specific exception handling."
   ]
  },
  {
   "cell_type": "code",
   "execution_count": null,
   "id": "86ca92f6",
   "metadata": {},
   "outputs": [],
   "source": []
  },
  {
   "cell_type": "code",
   "execution_count": null,
   "id": "466955f3",
   "metadata": {},
   "outputs": [],
   "source": []
  },
  {
   "cell_type": "code",
   "execution_count": null,
   "id": "46a367c6",
   "metadata": {},
   "outputs": [],
   "source": []
  }
 ],
 "metadata": {
  "kernelspec": {
   "display_name": "Python 3 (ipykernel)",
   "language": "python",
   "name": "python3"
  },
  "language_info": {
   "codemirror_mode": {
    "name": "ipython",
    "version": 3
   },
   "file_extension": ".py",
   "mimetype": "text/x-python",
   "name": "python",
   "nbconvert_exporter": "python",
   "pygments_lexer": "ipython3",
   "version": "3.9.7"
  }
 },
 "nbformat": 4,
 "nbformat_minor": 5
}
