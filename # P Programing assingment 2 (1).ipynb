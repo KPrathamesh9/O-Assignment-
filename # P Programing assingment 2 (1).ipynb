{
 "cells": [
  {
   "cell_type": "markdown",
   "id": "e3935e46",
   "metadata": {},
   "source": [
    "# P Programing assingment 2"
   ]
  },
  {
   "cell_type": "code",
   "execution_count": 7,
   "id": "3a2d96a5",
   "metadata": {},
   "outputs": [
    {
     "name": "stdout",
     "output_type": "stream",
     "text": [
      "enter value in km :15\n",
      "15.0 Km is equal to 9.32056785 miles\n"
     ]
    }
   ],
   "source": [
    "#Q1 KM to miles\n",
    "def kmtm():\n",
    "    a = float(input(\"enter value in km :\"))\n",
    "    b = 0.62137119\n",
    "    d = a*b\n",
    "    print(a, \"Km is equal to\", d, \"miles\")\n",
    "kmtm()"
   ]
  },
  {
   "cell_type": "code",
   "execution_count": 10,
   "id": "d122d1e1",
   "metadata": {},
   "outputs": [
    {
     "name": "stdout",
     "output_type": "stream",
     "text": [
      "enter value in celsius :38\n",
      "38.0 degree celious is equal to 100.4 fahrenheit\n"
     ]
    }
   ],
   "source": [
    "#Q2 celsius to fahrenheit (0°C × 9/5) + 32 = 32°F\n",
    "def ctf():\n",
    "    a = float(input(\"enter value in celsius :\"))\n",
    "    d = (a * 9/5) + 32.0\n",
    "    print(a, \"degree celious is equal to\", d, \"fahrenheit\")\n",
    "ctf()"
   ]
  },
  {
   "cell_type": "code",
   "execution_count": 16,
   "id": "12b903c7",
   "metadata": {},
   "outputs": [
    {
     "name": "stdout",
     "output_type": "stream",
     "text": [
      "enter year: 2014\n",
      "enter month: 11\n",
      "   November 2014\n",
      "Mo Tu We Th Fr Sa Su\n",
      "                1  2\n",
      " 3  4  5  6  7  8  9\n",
      "10 11 12 13 14 15 16\n",
      "17 18 19 20 21 22 23\n",
      "24 25 26 27 28 29 30\n",
      "\n"
     ]
    }
   ],
   "source": [
    "#Q4 program to display calendar\n",
    "def cal():\n",
    "    import calendar\n",
    "    yy = int(input(\"enter year: \"))\n",
    "    mm = int(input(\"enter month: \"))\n",
    "    print (calendar.month(yy, mm))\n",
    "\n",
    "cal()\n",
    "\n"
   ]
  },
  {
   "cell_type": "code",
   "execution_count": 2,
   "id": "71f08aba",
   "metadata": {},
   "outputs": [
    {
     "name": "stdout",
     "output_type": "stream",
     "text": [
      "enter value of a :2\n",
      "enter value of b :1\n",
      "enter value of c :1\n"
     ]
    },
    {
     "data": {
      "text/plain": [
       "((-0.24999999999999997+0.6614378277661477j),\n",
       " (-0.25000000000000006-0.6614378277661477j))"
      ]
     },
     "execution_count": 2,
     "metadata": {},
     "output_type": "execute_result"
    }
   ],
   "source": [
    "#Q4 program to solve quadratic equation ax**2+bx+c = 0\n",
    "def quad():\n",
    "    a = float(input(\"enter value of a :\"))\n",
    "    b = float(input(\"enter value of b :\"))\n",
    "    c = float(input(\"enter value of c :\"))\n",
    "    \n",
    "    x1 = (-b+((b**2-4*a*c)**(1/2)))/(2*a)\n",
    "    x2 = (-b-((b**2-4*a*c)**(1/2)))/(2*a)\n",
    "    return(x1, x2)\n",
    "quad()"
   ]
  },
  {
   "cell_type": "code",
   "execution_count": 20,
   "id": "fe3f7f06",
   "metadata": {},
   "outputs": [
    {
     "name": "stdout",
     "output_type": "stream",
     "text": [
      "a= 20 b = 10\n"
     ]
    }
   ],
   "source": [
    "#Q6 Python program to swap two variables without temp variable\n",
    "def swap():\n",
    "    a = 10\n",
    "    b = 20\n",
    "    a, b = b, a\n",
    "    print (\"a=\", a ,\"b =\", b)\n",
    "    \n",
    "swap()\n"
   ]
  },
  {
   "cell_type": "code",
   "execution_count": null,
   "id": "ab69b246",
   "metadata": {},
   "outputs": [],
   "source": []
  }
 ],
 "metadata": {
  "kernelspec": {
   "display_name": "Python 3 (ipykernel)",
   "language": "python",
   "name": "python3"
  },
  "language_info": {
   "codemirror_mode": {
    "name": "ipython",
    "version": 3
   },
   "file_extension": ".py",
   "mimetype": "text/x-python",
   "name": "python",
   "nbconvert_exporter": "python",
   "pygments_lexer": "ipython3",
   "version": "3.9.7"
  }
 },
 "nbformat": 4,
 "nbformat_minor": 5
}
